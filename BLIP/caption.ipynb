{
 "cells": [
  {
   "cell_type": "markdown",
   "id": "8d74d361",
   "metadata": {},
   "source": [
    "## Image Caption Generator using BLIP\n",
    "\n",
    "This notebook uses the Transformers model to generate caption from an Image."
   ]
  },
  {
   "cell_type": "code",
   "execution_count": null,
   "id": "bc59ff00",
   "metadata": {},
   "outputs": [],
   "source": [
    "!pip install transformers\n",
    "\n",
    "import time\n",
    "import requests\n",
    "from PIL import Image\n",
    "from transformers import BlipProcessor, BlipForConditionalGeneration\n",
    "\n",
    "import gradio as gr"
   ]
  },
  {
   "cell_type": "code",
   "execution_count": 2,
   "id": "e2cd53c6",
   "metadata": {},
   "outputs": [
    {
     "name": "stdout",
     "output_type": "stream",
     "text": [
      "Running on local URL:  http://127.0.0.1:7866\n",
      "\n",
      "To create a public link, set `share=True` in `launch()`.\n"
     ]
    },
    {
     "data": {
      "text/html": [
       "<div><iframe src=\"http://127.0.0.1:7866/\" width=\"100%\" height=\"500\" allow=\"autoplay; camera; microphone; clipboard-read; clipboard-write;\" frameborder=\"0\" allowfullscreen></iframe></div>"
      ],
      "text/plain": [
       "<IPython.core.display.HTML object>"
      ]
     },
     "metadata": {},
     "output_type": "display_data"
    },
    {
     "name": "stdout",
     "output_type": "stream",
     "text": [
      "--- 29.86722683906555 seconds ---\n"
     ]
    },
    {
     "name": "stderr",
     "output_type": "stream",
     "text": [
      "/Users/akal/opt/anaconda3/lib/python3.8/site-packages/transformers/generation/utils.py:1273: UserWarning: Using the model-agnostic default `max_length` (=20) to control the generation length. We recommend setting `max_new_tokens` to control the maximum length of the generation.\n",
      "  warnings.warn(\n"
     ]
    }
   ],
   "source": [
    "def decode(raw_image):\n",
    "    # unconditional image captioning\n",
    "    inputs = processor(raw_image, return_tensors=\"pt\")\n",
    "    out = model.generate(**inputs)\n",
    "    return processor.decode(out[0], skip_special_tokens=True)\n",
    "\n",
    "\n",
    "start_time = time.time()\n",
    "\n",
    "# hf_model = \"Salesforce/blip-image-captioning-large\"\n",
    "hf_model = \"Salesforce/blip-image-captioning-base\"\n",
    "\n",
    "processor = BlipProcessor.from_pretrained(hf_model)\n",
    "model = BlipForConditionalGeneration.from_pretrained(hf_model)\n",
    "\n",
    "processor = BlipProcessor.from_pretrained(hf_model)\n",
    "model = BlipForConditionalGeneration.from_pretrained(hf_model)\n",
    "\n",
    "#img_url = 'https://storage.googleapis.com/sfr-vision-language-research/BLIP/demo.jpg' \n",
    "#raw_image = Image.open(requests.get(img_url, stream=True).raw).convert('RGB')\n",
    "\n",
    "\n",
    "demo = gr.Interface(fn=decode,\n",
    "             inputs=[gr.Image(type=\"pil\", label=\"raw_image\")],\n",
    "             outputs=gr.Label())\n",
    "             \n",
    "demo.launch(share=False)\n",
    "# demo.launch(share=True)\n",
    "\n",
    "\n",
    "\n",
    "print(\"--- %s seconds ---\" % (time.time() - start_time))\n"
   ]
  },
  {
   "cell_type": "code",
   "execution_count": null,
   "id": "f33f1a61",
   "metadata": {},
   "outputs": [],
   "source": []
  }
 ],
 "metadata": {
  "kernelspec": {
   "display_name": "Python 3",
   "language": "python",
   "name": "python3"
  },
  "language_info": {
   "codemirror_mode": {
    "name": "ipython",
    "version": 3
   },
   "file_extension": ".py",
   "mimetype": "text/x-python",
   "name": "python",
   "nbconvert_exporter": "python",
   "pygments_lexer": "ipython3",
   "version": "3.8.8"
  }
 },
 "nbformat": 4,
 "nbformat_minor": 5
}
